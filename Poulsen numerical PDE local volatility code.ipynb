{
 "cells": [
  {
   "cell_type": "code",
   "execution_count": 2,
   "metadata": {},
   "outputs": [],
   "source": [
    "from BlackScholes import *\n",
    "from localVolPDE import *"
   ]
  },
  {
   "cell_type": "code",
   "execution_count": 3,
   "metadata": {},
   "outputs": [],
   "source": [
    "import numpy as np\n",
    "import matplotlib.pyplot as plt"
   ]
  },
  {
   "cell_type": "markdown",
   "metadata": {},
   "source": [
    "The local volatility function in (4.1) of the MLP paper is:"
   ]
  },
  {
   "cell_type": "code",
   "execution_count": 4,
   "metadata": {},
   "outputs": [],
   "source": [
    "def lvSPX(mintau):\n",
    "    \n",
    "    a = 0.0012\n",
    "    b =  0.1634\n",
    "    sig =  0.1029\n",
    "    rho = -0.5555\n",
    "    m = 0.0439\n",
    "    \n",
    "    # Local volatility\n",
    "    \n",
    "    def lv(k,t):\n",
    "        t = max(t,mintau)\n",
    "        kp = k/np.sqrt(t)\n",
    "        v = a + b * (rho * (kp-m) + np.sqrt((kp-m)**2 + sig**2 * t))\n",
    "        return np.sqrt(abs(v))\n",
    "        \n",
    "    return lv"
   ]
  },
  {
   "cell_type": "code",
   "execution_count": 5,
   "metadata": {},
   "outputs": [
    {
     "data": {
      "image/png": "[encoded data removed]",
      "text/plain": [
       "<Figure size 432x288 with 1 Axes>"
      ]
     },
     "metadata": {
      "needs_background": "light"
     },
     "output_type": "display_data"
    }
   ],
   "source": [
    "k_array = np.arange(-2,2.05,0.05)\n",
    "\n",
    "plt.plot(k_array, [lvSPX(mintau=1/250)(x,1)**2 for x in k_array], 'r-')\n",
    "plt.xticks(np.arange(k_array.min(),k_array.max()))\n",
    "plt.title(\"1 year local variance smile\")\n",
    "plt.xlabel(\"k\")\n",
    "plt.ylabel(\"$v_{BS}$\");"
   ]
  },
  {
   "cell_type": "markdown",
   "metadata": {},
   "source": [
    "# Numerical PDE computation of implied volatility smile\n",
    "\n",
    "Adapted from Rolf Poulsen's code.\n",
    "\n",
    "In this version, sigma is a function of K and t.\n"
   ]
  },
  {
   "cell_type": "code",
   "execution_count": 6,
   "metadata": {},
   "outputs": [],
   "source": [
    "sigma = lambda S,t: lvSPX(mintau=1/250)(np.log(S),t)"
   ]
  },
  {
   "cell_type": "code",
   "execution_count": 7,
   "metadata": {},
   "outputs": [
    {
     "data": {
      "text/plain": [
       "0.15318234888836593"
      ]
     },
     "execution_count": 7,
     "metadata": {},
     "output_type": "execute_result"
    }
   ],
   "source": [
    "sigma(1,1)"
   ]
  },
  {
   "cell_type": "code",
   "execution_count": 9,
   "metadata": {},
   "outputs": [
    {
     "name": "stdout",
     "output_type": "stream",
     "text": [
      "Wall time: 56min 17s\n"
     ]
    },
    {
     "data": {
      "text/plain": [
       "'\\ntt <- 1\\ndt <- tt/500\\ndS <- sqrt(dt)/10\\ncallValue <- function(k){sapply(k,\\n        function(k){callLocalVolPDE(S0=1, K=k, r=0, q=0, \\n                    sigma=sigma, t=tt, dS=dS, dt=dt, sdw=10)})}\\nimpvol <- function(k){BSImpliedVolCall(1,k,tt,0,callValue(k))}\\nk <- seq(.5,1.5,.005)\\nsystem.time(volk1 <- impvol(k))\\n'"
      ]
     },
     "execution_count": 9,
     "metadata": {},
     "output_type": "execute_result"
    }
   ],
   "source": [
    "tt = 1\n",
    "dt = tt/500\n",
    "dS = np.sqrt(dt)/10\n",
    "callValue = lambda k: list(map(lambda k_: callLocalVolPDE(S0=1, K=k_, r=0, q=0, \n",
    "                    sigma=sigma, t=tt, dS=dS, dt=dt, sdw=10), k))\n",
    "impvol = lambda k: BSImpliedVolCall(1,k,tt,0,callValue(k))\n",
    "k = np.arange(.5,1.5005,.005)\n",
    "%time volk1 = impvol(k)\n",
    "\n",
    "'''\n",
    "tt <- 1\n",
    "dt <- tt/500\n",
    "dS <- sqrt(dt)/10\n",
    "callValue <- function(k){sapply(k,\n",
    "        function(k){callLocalVolPDE(S0=1, K=k, r=0, q=0, \n",
    "                    sigma=sigma, t=tt, dS=dS, dt=dt, sdw=10)})}\n",
    "impvol <- function(k){BSImpliedVolCall(1,k,tt,0,callValue(k))}\n",
    "k <- seq(.5,1.5,.005)\n",
    "system.time(volk1 <- impvol(k))\n",
    "'''"
   ]
  },
  {
   "cell_type": "code",
   "execution_count": 15,
   "metadata": {},
   "outputs": [
    {
     "data": {
      "text/plain": [
       "'\\nplot(k,volk1,type=\"l\",ylab=\"Implied volatility\",xlab=\"Strike\",\\n     col=\"red2\", main=\"T=1\")\\n'"
      ]
     },
     "execution_count": 15,
     "metadata": {},
     "output_type": "execute_result"
    },
    {
     "data": {
      "image/png": "[encoded data removed]",
      "text/plain": [
       "<Figure size 432x288 with 1 Axes>"
      ]
     },
     "metadata": {
      "needs_background": "light"
     },
     "output_type": "display_data"
    }
   ],
   "source": [
    "plt.plot(k, volk1, 'r-')\n",
    "plt.xticks(np.arange(k_array.min(),k_array.max()))\n",
    "plt.title(\"T=1\")\n",
    "plt.xlabel(\"Strike\")\n",
    "plt.ylabel(\"Implied volatility\");\n",
    "plt.xlim(.5,1.5)\n",
    "plt.ylim(.1,.35)\n",
    "plt.xticks([.6,.8,1,1.2,1.4])\n",
    "'''\n",
    "plot(k,volk1,type=\"l\",ylab=\"Implied volatility\",xlab=\"Strike\",\n",
    "     col=\"red2\", main=\"T=1\")\n",
    "'''"
   ]
  }
 ],
 "metadata": {
  "kernelspec": {
   "display_name": "Python 3 (ipykernel)",
   "language": "python",
   "name": "python3"
  },
  "language_info": {
   "codemirror_mode": {
    "name": "ipython",
    "version": 3
   },
   "file_extension": ".py",
   "mimetype": "text/x-python",
   "name": "python",
   "nbconvert_exporter": "python",
   "pygments_lexer": "ipython3",
   "version": "3.9.7"
  }
 },
 "nbformat": 4,
 "nbformat_minor": 4
}
