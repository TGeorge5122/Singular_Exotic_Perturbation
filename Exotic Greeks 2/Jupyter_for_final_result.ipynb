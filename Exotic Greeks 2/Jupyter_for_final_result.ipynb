{
 "cells": [
  {
   "cell_type": "code",
   "execution_count": null,
   "metadata": {},
   "outputs": [],
   "source": [
    "from scipy import interpolate\n",
    "from scipy.stats import norm\n",
    "import collections\n",
    "import numpy as np\n",
    "import pandas as pd\n",
    "import pdb\n",
    "from mpl_toolkits import mplot3d\n",
    "import numpy as np\n",
    "import matplotlib.pyplot as plt\n",
    "import pandas as pd\n",
    "from plot_df_3d import plot_df_3d\n",
    "from BSVol_to_LocVol import BSVol_to_LocVol\n",
    "from Exotic_functions import *\n",
    "from SVI_localvol import lvSPX\n",
    "from tqdm import tqdm\n",
    "import statsmodels.api as sm\n"
   ]
  },
  {
   "cell_type": "code",
   "execution_count": null,
   "metadata": {},
   "outputs": [],
   "source": [
    "def LSV_impact_sim(rho=-0.01,nu=0.1,kappa=10):\n",
    "    paths = 10000\n",
    "    timesteps = 2000\n",
    "\n",
    "    rho = rho\n",
    "    nu = nu\n",
    "    kappa = kappa \n",
    "\n",
    "    S0 = 1\n",
    "    r = 0\n",
    "    locvolMLP=lvSPX(mintau=1/250,S0=S0)\n",
    "    delta_sigma = 0.03\n",
    "    delta_S = 0.03\n",
    "    beta=0.03\n",
    "\n",
    "    k_array = np.linspace(-0.1, 0.05, 20)#log stock price log(St/S0)\n",
    "    Strike_array=S0*np.exp(k_array)\n",
    "    t_array = np.linspace(0, 1, len(k_array))\n",
    "    t_array[0] = 1/250\n",
    "\n",
    "\n",
    "    LVsurface=pd.DataFrame(index = k_array, columns = t_array,dtype=float)\n",
    "    for t in t_array:\n",
    "        for k in k_array:\n",
    "            LVsurface.loc[k,t]=float(locvolMLP(S0*np.exp(k),t))\n",
    "\n",
    "    # print(LVsurface)\n",
    "    # plot_df_3d(LVsurface,title=\"local vol surface\")\n",
    "    volga_call_price_grid = pd.DataFrame(index = k_array, columns = t_array)\n",
    "    sigma_kt_x_volga_kt_grid = pd.DataFrame(index = k_array, columns = t_array)\n",
    "    x_volga_kt_grid = pd.DataFrame(index = k_array, columns = t_array)\n",
    "    vanna_call_price_grid = pd.DataFrame(index = k_array, columns = t_array)\n",
    "    sigma_kt_x_vanna_kt_grid = pd.DataFrame(index = k_array, columns = t_array)\n",
    "    x_vanna_kt_grid = pd.DataFrame(index = k_array, columns = t_array)\n",
    "    BS_imp_vol=pd.DataFrame(index = k_array, columns = t_array)\n",
    "\n",
    "    Call_LV=pd.DataFrame(index = Strike_array, columns = t_array)\n",
    "    Barrier_LV=pd.DataFrame(index = Strike_array, columns = t_array)\n",
    "    Barrier_LSV=pd.DataFrame(index = Strike_array, columns = t_array)\n",
    "    for t in t_array:\n",
    "        print(t)\n",
    "        c_kt_sigma = localVolMC(locvol = locvolMLP, S0 = S0, T = t,  paths = paths, timeSteps = timesteps, AK = Strike_array,kappa=kappa,nu=nu)\n",
    "        c_kt_s_sigma_perturb = localVolMC(locvol = lambda u, t: locvolMLP(u,t) , S0 = S0 + delta_S, T = t,  paths = paths, timeSteps = timesteps, AK = Strike_array,kappa=kappa,nu=nu,deformation=delta_sigma)\n",
    "        c_kt_sigmaperturb = localVolMC(locvol = lambda u, t: locvolMLP(u,t) , S0 = S0, T = t,  paths = paths, timeSteps = timesteps, AK = Strike_array,kappa=kappa,nu=nu,deformation=- delta_sigma)\n",
    "        c_kt_s_perturb = localVolMC(locvol = locvolMLP, S0 = S0 + delta_S, T = t,  paths = paths, timeSteps = timesteps, AK = Strike_array,kappa=kappa,nu=nu)\n",
    "        c_kt_negative_beta=localVolMC(locvol = locvolMLP, S0 = S0, T = t,  paths = paths, timeSteps = timesteps, AK = Strike_array,deformation=-beta,kappa=kappa,nu=nu)\n",
    "        Call_LV[t]=c_kt_sigma['Local Volatility Price'].values\n",
    "        volga_call_price_grid[t] = (2 * c_kt_sigma['Local Volatility Price'] - c_kt_negative_beta['Local Volatility Price']).values\n",
    "        vanna_call_price_grid[t] = (c_kt_s_sigma_perturb['Local Volatility Price'] - c_kt_s_perturb['Local Volatility Price'] + c_kt_sigma['Local Volatility Price']).values\n",
    "        \n",
    "        sigma_kt_x_volga_kt_grid[t] = BSImpliedVolCall(S0, Strike_array, t, r, volga_call_price_grid[t].values)\n",
    "        sigma_kt_x_vanna_kt_grid[t] = BSImpliedVolCall(S0, Strike_array, t, r, vanna_call_price_grid[t].values)\n",
    "        BS_imp_vol[t]=c_kt_sigma['Black Scholes Implied Vol'].values\n",
    "    # for k in k_array:\n",
    "    #     for t in t_array:\n",
    "    #         # change locvol to BS impvol\n",
    "    #         x_volga_kt_grid.at[k,t] = sigma_kt_x_volga_kt_grid.at[k,t] - BS_imp_vol.at[k, t]\n",
    "    #         x_vanna_kt_grid.at[k,t] = sigma_kt_x_vanna_kt_grid.at[k,t] - BS_imp_vol.at[k, t]\n",
    "    # x_volga_kt_grid= sigma_kt_x_volga_kt_grid- BS_imp_vol\n",
    "    # x_vanna_kt_grid= sigma_kt_x_vanna_kt_grid- BS_imp_vol\n",
    "\n",
    "    volga_LocalVol=BSVol_to_LocVol(sigma_kt_x_volga_kt_grid)\n",
    "    vanna_LocalVol=BSVol_to_LocVol(sigma_kt_x_vanna_kt_grid)\n",
    "\n",
    "    volga_LocalVol_df=pd.DataFrame(index = k_array, columns = t_array).apply(lambda x:volga_LocalVol(x.index , x.name))\n",
    "    vanna_LocalVol_df=pd.DataFrame(index = k_array, columns = t_array).apply(lambda x:vanna_LocalVol(x.index , x.name))\n",
    "\n",
    "    x_volga_kt_grid= volga_LocalVol_df- LVsurface\n",
    "    x_vanna_kt_grid= vanna_LocalVol_df- LVsurface\n",
    "    # x_volga_kt_grid.iloc[:2,:2]=0\n",
    "    # x_vanna_kt_grid.iloc[:2,:2]=0\n",
    "    # plot_df_3d(x_volga_kt_grid.iloc[2:,2:],title=\"volga x_kt\",ylabel='log strike')\n",
    "    # plot_df_3d(x_vanna_kt_grid.iloc[2:,2:],title=\"vanna x_kt\",ylabel='log strike')\n",
    "    #t_interp = []\n",
    "    #for _ in range(len(k_array)):\n",
    "    #    t_interp.extend(t_array)\n",
    "        \n",
    "    x_volga_kt = interpolate.RectBivariateSpline(Strike_array, t_array, x_volga_kt_grid.astype(float).values)\n",
    "    x_vanna_kt = interpolate.RectBivariateSpline(Strike_array, t_array, x_vanna_kt_grid.astype(float).values)\n",
    "    # print(x_volga_kt_grid)\n",
    "    # print(x_vanna_kt_grid)\n",
    "    #x_volga_kt = interpolate.interp2d(np.repeat(k_array, len(t_array)), t_interp, [float(x) for x in x_volga_kt_grid.values.flatten()], kind='cubic')\n",
    "    #x_vanna_kt = interpolate.interp2d(np.repeat(k_array, len(t_array)), t_interp, [float(x) for x in x_vanna_kt_grid.values.flatten()], kind='cubic')\n",
    "\n",
    "    exotic_volga = pd.DataFrame(index = Strike_array, columns = t_array)\n",
    "    exotic_vanna = pd.DataFrame(index = Strike_array, columns = t_array)\n",
    "\n",
    "    for t in t_array:\n",
    "        print(t)\n",
    "        p_LSV=ExoticLSVMC(locvol = locvolMLP, S0 = S0, T = t,  paths = paths, timeSteps = timesteps, AK = Strike_array,kappa=kappa,nu=nu,rho=rho)\n",
    "\n",
    "        p_kt_sigma_x_vanna = ExoticlocalVolMC(locvol = lambda u, t: locvolMLP(u,t) + x_vanna_kt(u,t,grid=False).flatten(), S0 = S0, T = t,  paths = paths, timeSteps = timesteps, AK = Strike_array,kappa=kappa,nu=nu) \n",
    "        p_kt_sigma_x_volga = ExoticlocalVolMC(locvol = lambda u, t: locvolMLP(u,t) + x_volga_kt(u,t,grid=False).flatten(), S0 = S0, T = t,  paths = paths, timeSteps = timesteps, AK = Strike_array,kappa=kappa,nu=nu) \n",
    "        p_kt_sigma = ExoticlocalVolMC(locvol = locvolMLP, S0 = S0, T = t,  paths = paths, timeSteps = timesteps, AK = Strike_array,kappa=kappa,nu=nu)\n",
    "        p_kt_s_sigma_perturb = ExoticlocalVolMC(locvol = lambda u, t: locvolMLP(u,t) , S0 = S0 + delta_S, T = t,  paths = paths, timeSteps = timesteps, AK = Strike_array,kappa=kappa,nu=nu,deformation=delta_sigma)\n",
    "        p_kt_sigmaperturb = ExoticlocalVolMC(locvol = lambda u, t: locvolMLP(u,t) , S0 = S0, T = t,  paths = paths, timeSteps = timesteps, AK = Strike_array,kappa=kappa,nu=nu,deformation=-delta_sigma)\n",
    "        p_kt_s_perturb = ExoticlocalVolMC(locvol = locvolMLP, S0 = S0 + delta_S, T = t,  paths = paths, timeSteps = timesteps, AK = Strike_array,kappa=kappa,nu=nu)\n",
    "        p_kt_negative_beta = ExoticlocalVolMC(locvol = locvolMLP, S0 = S0 , T = t,  paths = paths, timeSteps = timesteps, AK = Strike_array,deformation=-beta,kappa=kappa,nu=nu)\n",
    "        \n",
    "        Barrier_LSV[t]=p_LSV['Local Volatility Price'].values\n",
    "        Barrier_LV[t]=p_kt_sigma['Local Volatility Price'].values\n",
    "        exotic_volga[t] = (p_kt_sigma_x_volga['Local Volatility Price'].values - (2 * p_kt_sigma['Local Volatility Price'] - p_kt_negative_beta['Local Volatility Price']).values)/beta**2\n",
    "        exotic_vanna[t] = (p_kt_s_sigma_perturb['Local Volatility Price'].values - p_kt_s_perturb['Local Volatility Price'].values + p_kt_sigma['Local Volatility Price'].values - p_kt_sigma_x_vanna['Local Volatility Price'].values)/(delta_S*delta_sigma)*S0\n",
    "\n",
    "\n",
    "    # plot_df_3d(Call_LV,title='Call LV')\n",
    "    # plot_df_3d(Barrier_LV,title='Barrier LV',zlabel=\"option price\")\n",
    "    # plot_df_3d(Barrier_LSV,title='Barrier LSV',zlabel=\"option price\")\n",
    "\n",
    "    # plot_df_3d(exotic_volga,title=\"Exotic Volga Barrier\",zlabel=\"value\")\n",
    "\n",
    "    lsv_impact = (1 / 2 * (nu ** 2 / (2 * kappa)) * exotic_volga + rho * nu / kappa * exotic_vanna)\n",
    "    # plot_df_3d(lsv_impact,title='LSV impact',zlabel=\"price\")\n",
    "    # plot_df_3d(Barrier_LSV-Barrier_LV,title='LSV model diff',zlabel=\"price\")\n",
    "    Barrier_LV.index=k_array\n",
    "    Barrier_LSV.index=k_array\n",
    "    lsv_impact.index=k_array\n",
    "    return Barrier_LV,Barrier_LSV,lsv_impact"
   ]
  },
  {
   "cell_type": "code",
   "execution_count": null,
   "metadata": {},
   "outputs": [],
   "source": [
    "Barrier_LV,Barrier_LSV,lsv_impact=LSV_impact_sim()"
   ]
  },
  {
   "cell_type": "code",
   "execution_count": null,
   "metadata": {},
   "outputs": [],
   "source": [
    "import matplotlib.pyplot as plt\n",
    "plt.rcParams[\"figure.figsize\"] = (20,12)\n",
    "\n",
    "for i in range(len(lsv_impact.columns)):\n",
    "    plt.subplot(5,4,i+1)\n",
    "    plt.plot(Barrier_LSV.index, lsv_impact.iloc[:,i],'b-',label='lsv impact')\n",
    "    plt.plot(Barrier_LSV.index, Barrier_LSV.iloc[:,i]-Barrier_LV.iloc[:,i],'b--',label='actual lsv diff')\n",
    "    plt.legend()\n",
    "    plt.xlabel('log strike')\n",
    "    plt.ylabel('price diff')\n",
    "    plt.title('T='+'{0:.3}'.format(Barrier_LSV.columns[i]))\n",
    "    plt.tight_layout()\n",
    "plt.show()\n",
    "# ax = lsv_impact.plot(subplots=True, layout=(5,4),xlabel='log strike',ylabel='price',label='lsv impact',style=['b-']*len(t_array))\n",
    "# ax=ax.flatten()\n",
    "\n",
    "# for i in range(len(ax)):\n",
    "#     ax[i].plot(Barrier_LSV.index, Barrier_LSV.iloc[:,i]-Barrier_LV.iloc[:,i],'b--',label='actual impact')\n",
    "#     ax[i].legend()\n",
    "\n"
   ]
  },
  {
   "cell_type": "code",
   "execution_count": null,
   "metadata": {},
   "outputs": [],
   "source": [
    "def plot_LSV_impact(Barrier_LV,Barrier_LSV,lsv_impact):\n",
    "    plt.rcParams[\"figure.figsize\"] = (20,12)\n",
    "    plt.rcParams['figure.dpi'] = 200\n",
    "    times_periods=len(lsv_impact.columns)\n",
    "    for i in range(times_periods):\n",
    "        plt.subplot(int((times_periods-1e-5)/4)+1,4,i+1)\n",
    "        plt.plot(Barrier_LSV.index, lsv_impact.iloc[:,i],'b-',label='lsv impact')\n",
    "        plt.plot(Barrier_LSV.index, Barrier_LSV.iloc[:,i]-Barrier_LV.iloc[:,i],'b--',label='actual lsv diff')\n",
    "        plt.legend()\n",
    "        plt.xlabel('log strike')\n",
    "        plt.ylabel('price diff')\n",
    "        plt.title('T='+'{0:.3}'.format(Barrier_LSV.columns[i]))\n",
    "        plt.tight_layout()\n",
    "    plt.show()\n",
    "\n",
    "\n"
   ]
  },
  {
   "cell_type": "code",
   "execution_count": null,
   "metadata": {},
   "outputs": [],
   "source": [
    "rhos=np.linspace(-.2,-0.01,3)"
   ]
  },
  {
   "cell_type": "code",
   "execution_count": null,
   "metadata": {},
   "outputs": [],
   "source": [
    "rhos"
   ]
  },
  {
   "cell_type": "code",
   "execution_count": null,
   "metadata": {},
   "outputs": [],
   "source": [
    "lv_list_rho=[]\n",
    "lsv_list_rho=[]\n",
    "lsv_impact_list_rho=[]\n",
    "for rho in rhos:\n",
    "    Barrier_LV,Barrier_LSV,lsv_impact=LSV_impact_sim(rho=rho)\n",
    "    lv_list_rho.append(Barrier_LV)\n",
    "    lsv_list_rho.append(Barrier_LSV)\n",
    "    lsv_impact_list_rho.append(lsv_impact)\n",
    "    Barrier_LV.to_csv('rho'+str(rho)+'LV.csv')\n",
    "    Barrier_LV.to_csv('rho'+str(rho)+'LSV.csv')\n",
    "    Barrier_LV.to_csv('rho'+str(rho)+'LSVimpact.csv')"
   ]
  },
  {
   "cell_type": "code",
   "execution_count": null,
   "metadata": {},
   "outputs": [],
   "source": [
    "for i in range(len(rhos)):\n",
    "    plot_LSV_impact(lv_list_rho[i],lsv_list_rho[i],lsv_impact_list_rho[i])"
   ]
  },
  {
   "cell_type": "code",
   "execution_count": null,
   "metadata": {},
   "outputs": [],
   "source": [
    "kappas=[0.1,0.5,1,5,10]\n",
    "lv_list_kappa=[]\n",
    "lsv_list_kappa=[]\n",
    "lsv_impact_list_kappa=[]\n",
    "for kappa in kappas:\n",
    "    Barrier_LV,Barrier_LSV,lsv_impact=LSV_impact_sim(kappa=kappa)\n",
    "    lv_list_kappa.append(Barrier_LV)\n",
    "    lsv_list_kappa.append(Barrier_LSV)\n",
    "    lsv_impact_list_kappa.append(lsv_impact)\n",
    "    Barrier_LV.to_csv('kappa'+str(kappa)+'LV.csv')\n",
    "    Barrier_LV.to_csv('kappa'+str(kappa)+'LSV.csv')\n",
    "    Barrier_LV.to_csv('kappa'+str(kappa)+'LSVimpact.csv')\n"
   ]
  },
  {
   "cell_type": "code",
   "execution_count": null,
   "metadata": {},
   "outputs": [],
   "source": [
    "for i in range(len(kappas)):\n",
    "    plot_LSV_impact(lv_list_kappa[i],lsv_list_kappa[i],lsv_impact_list_kappa[i])"
   ]
  },
  {
   "cell_type": "code",
   "execution_count": null,
   "metadata": {},
   "outputs": [],
   "source": [
    "nus=[0.1,0.5]\n",
    "lv_list_nu=[]\n",
    "lsv_list_nu=[]\n",
    "lsv_impact_list_nu=[]\n",
    "for nu in nus:\n",
    "    Barrier_LV,Barrier_LSV,lsv_impact=LSV_impact_sim(nu=nu)\n",
    "    lv_list_nu.append(Barrier_LV)\n",
    "    lsv_list_nu.append(Barrier_LSV)\n",
    "    lsv_impact_list_nu.append(lsv_impact)\n",
    "    Barrier_LV.to_csv('nu'+str(nu)+'LV.csv')\n",
    "    Barrier_LV.to_csv('nu'+str(nu)+'LSV.csv')\n",
    "    Barrier_LV.to_csv('nu'+str(nu)+'LSVimpact.csv')"
   ]
  },
  {
   "cell_type": "code",
   "execution_count": null,
   "metadata": {},
   "outputs": [],
   "source": [
    "for i in range(len(nus)):\n",
    "    plot_LSV_impact(lv_list_nu[i],lsv_list_nu[i],lsv_impact_list_nu[i])"
   ]
  },
  {
   "cell_type": "code",
   "execution_count": null,
   "metadata": {},
   "outputs": [],
   "source": [
    "nus2=[0.1,0.5,1.0,5.0,10.0]\n",
    "lv_list_nu_kappa=[]\n",
    "lsv_list_nu_kappa=[]\n",
    "lsv_impact_list_nu_kappa=[]\n",
    "var_ratio=1000# var=1/2000=nu**2/kappa\n",
    "for nu in nus2:\n",
    "    kappa=var_ratio*nu**2\n",
    "    Barrier_LV,Barrier_LSV,lsv_impact=LSV_impact_sim(nu=nu,kappa=kappa)\n",
    "    lv_list_nu_kappa.append(Barrier_LV)\n",
    "    lsv_list_nu_kappa.append(Barrier_LSV)\n",
    "    lsv_impact_list_nu_kappa.append(lsv_impact)\n",
    "    Barrier_LV.to_csv('nu{:.02}kappa{:.02}LV.csv'.format(nu,kappa))\n",
    "    Barrier_LV.to_csv('nu{:.02}kappa{:.02}LSV.csv'.format(nu,kappa))\n",
    "    Barrier_LV.to_csv('nu{:.02}kappa{:.02}LSVimpact.csv'.format(nu,kappa))\n",
    "    "
   ]
  },
  {
   "cell_type": "code",
   "execution_count": null,
   "metadata": {},
   "outputs": [],
   "source": [
    "for i in range(len(nus2)):\n",
    "    print(nus2[i],var_ratio*nus2[i]**2)\n",
    "    plot_LSV_impact(lv_list_nu_kappa[i],lsv_list_nu_kappa[i],lsv_impact_list_nu_kappa[i])"
   ]
  },
  {
   "cell_type": "code",
   "execution_count": null,
   "metadata": {},
   "outputs": [],
   "source": [
    "def linear_reg(LV,LSV,LSVimpact):\n",
    "    diff=LSV-LV\n",
    "    diff=pd.DataFrame(diff.stack())\n",
    "    diff['impact']=LSVimpact.stack()\n",
    "    mod = sm.OLS(diff.iloc[:,0].values, diff.iloc[:,1].values)\n",
    "    res = mod.fit()\n",
    "    return res.params, res.pvalues"
   ]
  },
  {
   "cell_type": "code",
   "execution_count": null,
   "metadata": {},
   "outputs": [],
   "source": [
    "len(lv_list_kappa)"
   ]
  },
  {
   "cell_type": "code",
   "execution_count": null,
   "metadata": {},
   "outputs": [],
   "source": [
    "for i in range(len(rhos)):\n",
    "    print(rhos[i])\n",
    "    print(linear_reg(lv_list_rho[i],lsv_list_rho[i],lsv_impact_list_rho[i]))"
   ]
  },
  {
   "cell_type": "code",
   "execution_count": null,
   "metadata": {},
   "outputs": [],
   "source": [
    "for i in range(len(kappas)):\n",
    "    print(kappas[i])\n",
    "    print(linear_reg(lv_list_kappa[i],lsv_list_kappa[i],lsv_impact_list_kappa[i]))"
   ]
  },
  {
   "cell_type": "code",
   "execution_count": null,
   "metadata": {},
   "outputs": [],
   "source": [
    "for i in range(len(nus)):\n",
    "    print(nus[i])\n",
    "    print(linear_reg(lv_list_nu[i],lsv_list_nu[i],lsv_impact_list_nu[i]))"
   ]
  },
  {
   "cell_type": "code",
   "execution_count": null,
   "metadata": {},
   "outputs": [],
   "source": [
    "for i in range(len(nus2)):\n",
    "    print(nus2[i])\n",
    "    print(linear_reg(lv_list_nu_kappa[i],lsv_list_nu_kappa[i],lsv_impact_list_nu_kappa[i]))"
   ]
  },
  {
   "cell_type": "code",
   "execution_count": null,
   "metadata": {},
   "outputs": [],
   "source": []
  }
 ],
 "metadata": {
  "kernelspec": {
   "display_name": "Python 3",
   "language": "python",
   "name": "python3"
  },
  "language_info": {
   "codemirror_mode": {
    "name": "ipython",
    "version": 3
   },
   "file_extension": ".py",
   "mimetype": "text/x-python",
   "name": "python",
   "nbconvert_exporter": "python",
   "pygments_lexer": "ipython3",
   "version": "3.9.4"
  },
  "orig_nbformat": 4,
  "vscode": {
   "interpreter": {
    "hash": "82ed002fa2d4956f5c6aec99bcefe0f73a9f79882f3c9e2319b14958a5896ac5"
   }
  }
 },
 "nbformat": 4,
 "nbformat_minor": 2
}
